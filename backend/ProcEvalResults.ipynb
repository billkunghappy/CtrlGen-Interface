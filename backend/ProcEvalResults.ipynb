{
 "cells": [
  {
   "cell_type": "markdown",
   "metadata": {},
   "source": [
    "## Proces the eval results into csv for mturk eval"
   ]
  },
  {
   "cell_type": "code",
   "execution_count": 10,
   "metadata": {},
   "outputs": [],
   "source": [
    "import os\n",
    "import json\n",
    "import random\n",
    "import csv\n",
    "\n",
    "alphabets = ['a', 'b', 'c', 'd', 'e', 'f']\n",
    "eval_results_dir = \"/local1/ponienkung/CtrlGen/coauthor-interface/backend/coauthor_eval_results\"\n",
    "eval_mturkready_dir = \"/local1/ponienkung/CtrlGen/coauthor-interface/backend/coauthor_eval_results_mturkready\"\n",
    "\n",
    "# One csv row is a hit, if want multiple examples in one hit, need to add colums\n",
    "mturk_example_per_hit = 1\n",
    "\n",
    "# For eval set, every 50 data are from one promt, we get 20 from each prompt\n",
    "example_per_prompt = 50\n",
    "use_example_per_prompt = 20\n",
    "\n",
    "constraints = []\n",
    "\n",
    "for keyword in [0, 1]:\n",
    "    for wordlen in [0, 1]:\n",
    "        for insertion in [0, 1]:\n",
    "            constraints.append(f\"K{keyword}L{wordlen}I{insertion}\")\n",
    "\n",
    "\n",
    "\n",
    "\n",
    "for cont in constraints:\n",
    "    eval_file_template = \"CoauthorEval_{cont}_{model}.json\"\n",
    "    output_file = os.path.join(\n",
    "        eval_mturkready_dir,\n",
    "        f\"CoauthorEval_{cont}.csv\"\n",
    "    )\n",
    "    \n",
    "    # For examples\n",
    "    models = [\"local\", \"gpt-3.5-turbo\", \"gpt-4-turbo\"]\n",
    "    model_outputs = {}\n",
    "    \n",
    "    for model in models:\n",
    "        eval_file = os.path.join(eval_results_dir, eval_file_template.format(cont = cont, model = model))\n",
    "        data = json.load(open(eval_file))\n",
    "        # Story the dict\n",
    "        model_outputs[model] = data\n",
    "    \n",
    "    session_list = []\n",
    "    for i, (session, data) in enumerate(model_outputs[models[0]].items()):\n",
    "        if i % 50 >= 20:\n",
    "            continue\n",
    "        prefix = \"\"\n",
    "        suffix = \"\"\n",
    "        if data['prefix'] != \"\":\n",
    "            prefix_trunc = 3 if data['prefix'][-1] == \".\" else 2\n",
    "            prefix = \".\".join(data['prefix'].split(\".\")[-prefix_trunc:]).lstrip()\n",
    "        if data['constraints']['suffix'] != \"\":\n",
    "            suffix_trunc = 3 if data['constraints']['suffix'][0] == \".\" else 2\n",
    "            suffix = \".\".join(data['constraints']['suffix'].split(\".\")[:suffix_trunc]).rstrip()\n",
    "        session_list.append({\n",
    "            \"session\": session,\n",
    "            \"prefix\": prefix,\n",
    "            \"suffix\": suffix\n",
    "        })\n",
    "    # Also shuffle the session list\n",
    "    random.shuffle(session_list) \n",
    "    # Now for all example in session list, create dict for csv file\n",
    "    csv_list = []\n",
    "    for i, session in enumerate(session_list):\n",
    "        if i % mturk_example_per_hit == 0:\n",
    "            csv_list.append({})\n",
    "        csv_rid = i//mturk_example_per_hit\n",
    "        csv_row = csv_list[csv_rid]\n",
    "        sid = i%mturk_example_per_hit + 1 # cnt from 0\n",
    "        # Random shuffle the model list\n",
    "        random.shuffle(models)\n",
    "        csv_row[f\"idx_{sid}\"] = session['session']\n",
    "        for j, model in enumerate(models):\n",
    "            csv_row[f\"text_{alphabets[j]}_src_{sid}\"] = model\n",
    "        csv_row[f\"prefix_{sid}\"] = session['prefix'].replace(\"\\n\", \"<br>\")\n",
    "        for j, model in enumerate(models):\n",
    "            model_suggestions = model_outputs[model][session['session']]['suggestions']\n",
    "            csv_row[f\"text_{alphabets[j]}_{sid}\"] = model_suggestions[0].replace(\"\\n\", \"<br>\") # Use the first one, which has highest prob\n",
    "        csv_row[f\"suffix_{sid}\"] = session['suffix'].replace(\"\\n\", \"<br>\")\n",
    "    \n",
    "    # Write to csv\n",
    "    csv_keys = csv_list[0].keys()\n",
    "\n",
    "    with open(output_file, 'w', newline='') as F:\n",
    "        dict_writer = csv.DictWriter(F, csv_keys)\n",
    "        dict_writer.writeheader()\n",
    "        dict_writer.writerows(csv_list)"
   ]
  },
  {
   "cell_type": "markdown",
   "metadata": {},
   "source": [
    "### Change the order of the suggestion\n",
    "Fix the previous bug that the highest probability one appears at the second. This one should only be processed once"
   ]
  },
  {
   "cell_type": "code",
   "execution_count": 6,
   "metadata": {},
   "outputs": [
    {
     "name": "stderr",
     "output_type": "stream",
     "text": [
      "100%|██████████| 24/24 [00:00<00:00, 47.89it/s]\n"
     ]
    }
   ],
   "source": [
    "# import os\n",
    "# import json\n",
    "# from tqdm import tqdm\n",
    "# eval_results_dir = \"/local1/ponienkung/CtrlGen/coauthor-interface/backend/coauthor_eval_results\"\n",
    "\n",
    "# file_list = [f for f in os.listdir(eval_results_dir) if \"CoauthorEval\" in f]\n",
    "# for file_name in tqdm(file_list):\n",
    "#     file_path = os.path.join(eval_results_dir, file_name)\n",
    "#     try:\n",
    "#         data = json.load(open(file_path, \"r\"))\n",
    "#         for session_id, session_data in data.items():\n",
    "#             # Switch\n",
    "#             if \"suggestions\" in session_data:\n",
    "#                 tmp = data[session_id][\"suggestions\"][0]\n",
    "#                 data[session_id][\"suggestions\"][0] = data[session_id][\"suggestions\"][1]\n",
    "#                 data[session_id][\"suggestions\"][1] = tmp\n",
    "#         with open(file_path, \"w\") as F:\n",
    "#             json.dump(data, F, indent = 4, ensure_ascii=False)\n",
    "#     except Exception as e:\n",
    "#         print(f\"Fail at file {file_name} because of exception: {e}\")\n",
    "        \n"
   ]
  },
  {
   "cell_type": "markdown",
   "metadata": {},
   "source": [
    "### Check keyword capital issue\n",
    "Fix the previous bug that some of the keywords are lower cased instead of upper case."
   ]
  },
  {
   "cell_type": "code",
   "execution_count": 27,
   "metadata": {},
   "outputs": [
    {
     "name": "stderr",
     "output_type": "stream",
     "text": [
      " 50%|█████     | 12/24 [00:00<00:00, 47.80it/s]"
     ]
    },
    {
     "name": "stdout",
     "output_type": "stream",
     "text": [
      "Cannot fix keyword -------- sneak around \n",
      " You sneak  around the side of your house and sidle up to the neighbor's front porch.\n",
      "Cannot fix keyword -------- sneak around \n",
      " You sneak  around the side of your house and sidle up to the neighbor's front porch.\n"
     ]
    },
    {
     "name": "stderr",
     "output_type": "stream",
     "text": [
      "100%|██████████| 24/24 [00:00<00:00, 40.31it/s]\n"
     ]
    },
    {
     "name": "stdout",
     "output_type": "stream",
     "text": [
      "Cannot fix keyword -------- sneak around \n",
      " You sneak  around the side of your house and sidle up to the neighbor's front porch.\n"
     ]
    },
    {
     "ename": "FileNotFoundError",
     "evalue": "[Errno 2] No such file or directory: '/local1/ponienkung/CtrlGen/coauthor-interface/backend/coauthor_eval_results/fix_keyword_stats.json'",
     "output_type": "error",
     "traceback": [
      "\u001b[0;31m---------------------------------------------------------------------------\u001b[0m",
      "\u001b[0;31mFileNotFoundError\u001b[0m                         Traceback (most recent call last)",
      "Cell \u001b[0;32mIn[27], line 51\u001b[0m\n\u001b[1;32m     48\u001b[0m     \u001b[38;5;28;01mexcept\u001b[39;00m \u001b[38;5;167;01mException\u001b[39;00m \u001b[38;5;28;01mas\u001b[39;00m e:\n\u001b[1;32m     49\u001b[0m         \u001b[38;5;28mprint\u001b[39m(\u001b[38;5;124mf\u001b[39m\u001b[38;5;124m\"\u001b[39m\u001b[38;5;124mFail at file \u001b[39m\u001b[38;5;132;01m{\u001b[39;00mfile_name\u001b[38;5;132;01m}\u001b[39;00m\u001b[38;5;124m because of exception: \u001b[39m\u001b[38;5;132;01m{\u001b[39;00me\u001b[38;5;132;01m}\u001b[39;00m\u001b[38;5;124m\"\u001b[39m)\n\u001b[0;32m---> 51\u001b[0m \u001b[38;5;28;01mwith\u001b[39;00m \u001b[38;5;28;43mopen\u001b[39;49m\u001b[43m(\u001b[49m\u001b[43mos\u001b[49m\u001b[38;5;241;43m.\u001b[39;49m\u001b[43mpath\u001b[49m\u001b[38;5;241;43m.\u001b[39;49m\u001b[43mjoin\u001b[49m\u001b[43m(\u001b[49m\u001b[43meval_results_dir\u001b[49m\u001b[43m,\u001b[49m\u001b[43m \u001b[49m\u001b[38;5;124;43m\"\u001b[39;49m\u001b[38;5;124;43mfix_keyword_stats.json\u001b[39;49m\u001b[38;5;124;43m\"\u001b[39;49m\u001b[43m)\u001b[49m\u001b[43m,\u001b[49m\u001b[43m \u001b[49m\u001b[38;5;124;43m\"\u001b[39;49m\u001b[38;5;124;43mr\u001b[39;49m\u001b[38;5;124;43m\"\u001b[39;49m\u001b[43m)\u001b[49m \u001b[38;5;28;01mas\u001b[39;00m F:\n\u001b[1;32m     52\u001b[0m     json\u001b[38;5;241m.\u001b[39mdumps(file_stats, F, indent \u001b[38;5;241m=\u001b[39m \u001b[38;5;241m4\u001b[39m)\n",
      "File \u001b[0;32m/local1/ponienkung/miniconda3/envs/coreset/lib/python3.11/site-packages/IPython/core/interactiveshell.py:286\u001b[0m, in \u001b[0;36m_modified_open\u001b[0;34m(file, *args, **kwargs)\u001b[0m\n\u001b[1;32m    279\u001b[0m \u001b[38;5;28;01mif\u001b[39;00m file \u001b[38;5;129;01min\u001b[39;00m {\u001b[38;5;241m0\u001b[39m, \u001b[38;5;241m1\u001b[39m, \u001b[38;5;241m2\u001b[39m}:\n\u001b[1;32m    280\u001b[0m     \u001b[38;5;28;01mraise\u001b[39;00m \u001b[38;5;167;01mValueError\u001b[39;00m(\n\u001b[1;32m    281\u001b[0m         \u001b[38;5;124mf\u001b[39m\u001b[38;5;124m\"\u001b[39m\u001b[38;5;124mIPython won\u001b[39m\u001b[38;5;124m'\u001b[39m\u001b[38;5;124mt let you open fd=\u001b[39m\u001b[38;5;132;01m{\u001b[39;00mfile\u001b[38;5;132;01m}\u001b[39;00m\u001b[38;5;124m by default \u001b[39m\u001b[38;5;124m\"\u001b[39m\n\u001b[1;32m    282\u001b[0m         \u001b[38;5;124m\"\u001b[39m\u001b[38;5;124mas it is likely to crash IPython. If you know what you are doing, \u001b[39m\u001b[38;5;124m\"\u001b[39m\n\u001b[1;32m    283\u001b[0m         \u001b[38;5;124m\"\u001b[39m\u001b[38;5;124myou can use builtins\u001b[39m\u001b[38;5;124m'\u001b[39m\u001b[38;5;124m open.\u001b[39m\u001b[38;5;124m\"\u001b[39m\n\u001b[1;32m    284\u001b[0m     )\n\u001b[0;32m--> 286\u001b[0m \u001b[38;5;28;01mreturn\u001b[39;00m \u001b[43mio_open\u001b[49m\u001b[43m(\u001b[49m\u001b[43mfile\u001b[49m\u001b[43m,\u001b[49m\u001b[43m \u001b[49m\u001b[38;5;241;43m*\u001b[39;49m\u001b[43margs\u001b[49m\u001b[43m,\u001b[49m\u001b[43m \u001b[49m\u001b[38;5;241;43m*\u001b[39;49m\u001b[38;5;241;43m*\u001b[39;49m\u001b[43mkwargs\u001b[49m\u001b[43m)\u001b[49m\n",
      "\u001b[0;31mFileNotFoundError\u001b[0m: [Errno 2] No such file or directory: '/local1/ponienkung/CtrlGen/coauthor-interface/backend/coauthor_eval_results/fix_keyword_stats.json'"
     ]
    }
   ],
   "source": [
    "# First check the number of examples that have this issues\n",
    "import os\n",
    "import json\n",
    "from tqdm import tqdm\n",
    "eval_results_dir = \"/local1/ponienkung/CtrlGen/coauthor-interface/backend/coauthor_eval_results\"\n",
    "\n",
    "file_list = [f for f in os.listdir(eval_results_dir) if \"CoauthorEval\" in f]\n",
    "\n",
    "def fix_keyword(keyword:str, infix:str) -> str:\n",
    "    kw_pos = infix.lower().find(keyword)\n",
    "    original_kw = infix[kw_pos: kw_pos + len(keyword)]\n",
    "    if keyword == original_kw.lower():\n",
    "        return original_kw\n",
    "    else:\n",
    "        print(\"Cannot fix keyword --------\", keyword, original_kw)\n",
    "        print(session_data['infix'])\n",
    "        return \"\"\n",
    "\n",
    "file_stats = {}\n",
    "\n",
    "for file_name in tqdm(file_list):\n",
    "    file_stats[file_name] = {\n",
    "        \"KeywordError\": 0,\n",
    "        \"FixedKeywordError\": 0,\n",
    "        \"RemoveSuggestion\": 0,\n",
    "        \"RemoveList\": [],\n",
    "    }\n",
    "    file_path = os.path.join(eval_results_dir, file_name)\n",
    "    try:\n",
    "        data = json.load(open(file_path, \"r\"))\n",
    "        for session_id, session_data in data.items():\n",
    "            # Switch            \n",
    "            for kid, keyword in enumerate(session_data['constraints']['keyword']):\n",
    "                if not (keyword in session_data['infix']):\n",
    "                    file_stats[file_name][\"KeywordError\"] += 1\n",
    "                    # Check if we can easily switch it back to the correct keyword\n",
    "                    fixed_keyword = fix_keyword(keyword, session_data['infix'])\n",
    "                    if fixed_keyword != \"\":\n",
    "                        file_stats[file_name][\"FixedKeywordError\"] += 1\n",
    "                        if (\"suggestions\" in session_data) and (\"_local.json\" in file_name):\n",
    "                            # Clear suggestions\n",
    "                            del data[session_id][\"suggestions\"]\n",
    "                            file_stats[file_name][\"RemoveSuggestion\"] += 1\n",
    "                            file_stats[file_name][\"RemoveList\"].append(session_id)\n",
    "                        data[session_id]['constraints']['keyword'][kid] = fixed_keyword\n",
    "        with open(file_path, \"w\") as F:\n",
    "            json.dump(data, F, indent = 4, ensure_ascii=False)\n",
    "    except Exception as e:\n",
    "        print(f\"Fail at file {file_name} because of exception: {e}\")\n",
    "\n",
    "with open(os.path.join(eval_results_dir, \"fix_keyword_stats.json\"), \"w\") as F:\n",
    "    json.dump(file_stats, F, indent = 4)"
   ]
  },
  {
   "cell_type": "code",
   "execution_count": null,
   "metadata": {},
   "outputs": [],
   "source": []
  }
 ],
 "metadata": {
  "kernelspec": {
   "display_name": "coreset",
   "language": "python",
   "name": "python3"
  },
  "language_info": {
   "codemirror_mode": {
    "name": "ipython",
    "version": 3
   },
   "file_extension": ".py",
   "mimetype": "text/x-python",
   "name": "python",
   "nbconvert_exporter": "python",
   "pygments_lexer": "ipython3",
   "version": "3.11.4"
  }
 },
 "nbformat": 4,
 "nbformat_minor": 2
}
